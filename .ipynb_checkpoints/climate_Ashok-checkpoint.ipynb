{
 "cells": [
  {
   "cell_type": "code",
   "execution_count": 1,
   "metadata": {},
   "outputs": [],
   "source": [
    "%matplotlib inline\n",
    "from matplotlib import style\n",
    "style.use('fivethirtyeight')\n",
    "import matplotlib.pyplot as plt"
   ]
  },
  {
   "cell_type": "code",
   "execution_count": 2,
   "metadata": {},
   "outputs": [],
   "source": [
    "import numpy as np\n",
    "import pandas as pd"
   ]
  },
  {
   "cell_type": "code",
   "execution_count": 3,
   "metadata": {},
   "outputs": [],
   "source": [
    "import datetime as dt"
   ]
  },
  {
   "cell_type": "markdown",
   "metadata": {},
   "source": [
    "# Reflect Tables into SQLAlchemy ORM"
   ]
  },
  {
   "cell_type": "code",
   "execution_count": 4,
   "metadata": {},
   "outputs": [],
   "source": [
    "# Python SQL toolkit and Object Relational Mapper\n",
    "import sqlalchemy\n",
    "from sqlalchemy.ext.automap import automap_base\n",
    "from sqlalchemy.orm import Session\n",
    "from sqlalchemy import create_engine, func"
   ]
  },
  {
   "cell_type": "code",
   "execution_count": 5,
   "metadata": {},
   "outputs": [],
   "source": [
    "engine = create_engine(\"sqlite:///Resources/hawaii.sqlite\")"
   ]
  },
  {
   "cell_type": "code",
   "execution_count": 6,
   "metadata": {},
   "outputs": [],
   "source": [
    "# reflect an existing database into a new model\n",
    "Base = automap_base()\n",
    "# reflect the tables\n",
    "Base.prepare(engine, reflect=True)"
   ]
  },
  {
   "cell_type": "code",
   "execution_count": 7,
   "metadata": {},
   "outputs": [
    {
     "data": {
      "text/plain": [
       "['measurement', 'station']"
      ]
     },
     "execution_count": 7,
     "metadata": {},
     "output_type": "execute_result"
    }
   ],
   "source": [
    "# We can view all of the classes that automap found\n",
    "Base.classes.keys()"
   ]
  },
  {
   "cell_type": "code",
   "execution_count": 8,
   "metadata": {},
   "outputs": [],
   "source": [
    "# Save references to each table\n",
    "Measurement = Base.classes.measurement\n",
    "Station = Base.classes.station"
   ]
  },
  {
   "cell_type": "code",
   "execution_count": 10,
   "metadata": {},
   "outputs": [],
   "source": [
    "# Create our session (link) from Python to the DB\n",
    "session = Session(engine)"
   ]
  },
  {
   "cell_type": "markdown",
   "metadata": {},
   "source": [
    "# Exploratory Climate Analysis"
   ]
  },
  {
   "cell_type": "code",
   "execution_count": 11,
   "metadata": {},
   "outputs": [
    {
     "data": {
      "image/png": "[encoded data removed]",
      "text/plain": [
       "<Figure size 1080x360 with 1 Axes>"
      ]
     },
     "metadata": {
      "needs_background": "light"
     },
     "output_type": "display_data"
    },
    {
     "data": {
      "text/plain": [
       "<Figure size 432x288 with 0 Axes>"
      ]
     },
     "metadata": {},
     "output_type": "display_data"
    }
   ],
   "source": [
    "# Display the Measurement's columns and data in dictionary format\n",
    "# first_row = session.query(Measurement).first()\n",
    "# first_row.__dict__\n",
    "\n",
    "# Display the Station's columns and data in dictionary format\n",
    "# first_row = session.query(Station).first()\n",
    "# first_row.__dict__\n",
    "\n",
    "# Use the session to query Measurement table and display the first 12 locations\n",
    "# for row in session.query(Measurement, Measurement.prcp).limit(12).all():\n",
    "#     print(row)\n",
    "    \n",
    "# Query Measurement table precipitation and date, and order by date\n",
    "results = session.query(Measurement.date, Measurement.prcp).order_by(Measurement.date).all()  \n",
    "\n",
    "# Save the query results as a Pandas DataFrame\n",
    "df = pd.DataFrame(results, columns=['Date', 'Precipitation'])\n",
    "\n",
    "# # Multiple precipitation reading per day, take the Maximum Recorded precipitation per day\n",
    "dfg = df.groupby([\"Date\"]).max()\n",
    "dfg.rename(columns={'Precipitation' : 'Max Precipitation Per Day'}, inplace=True)\n",
    "\n",
    "# Sort the dataframe by date\n",
    "dfg = dfg.sort_values('Date', ascending=False)\n",
    "dfg = dfg.reset_index()\n",
    "\n",
    "# Convert the Date column from string to date object format  \n",
    "dfg['Date'] = pd.to_datetime(dfg['Date'])\n",
    "\n",
    "# Get the last 12 months of data   \n",
    "first_month = dfg.iloc[0,0]\n",
    "last_month = first_month - dt.timedelta(days=365)\n",
    "df_12m = dfg.loc[dfg['Date'] > last_month]\n",
    "\n",
    "df_12m.set_index('Date', inplace=True)\n",
    "\n",
    "df_12m.plot(kind='bar', rot=0, figsize=(15,5))\n",
    "plt.xticks([])\n",
    "\n",
    "plt.title(\"Precipitation in 2016/2017\")\n",
    "plt.xlabel(\"Date\")\n",
    "plt.ylabel(\" Max Precipitation Per Day\")\n",
    "\n",
    "plt.savefig(\"Images/precipitation.png\")\n",
    "plt.show()\n",
    "plt.tight_layout()\n",
    "\n"
   ]
  },
  {
   "cell_type": "code",
   "execution_count": 12,
   "metadata": {},
   "outputs": [
    {
     "data": {
      "text/html": [
       "<div>\n",
       "<style scoped>\n",
       "    .dataframe tbody tr th:only-of-type {\n",
       "        vertical-align: middle;\n",
       "    }\n",
       "\n",
       "    .dataframe tbody tr th {\n",
       "        vertical-align: top;\n",
       "    }\n",
       "\n",
       "    .dataframe thead th {\n",
       "        text-align: right;\n",
       "    }\n",
       "</style>\n",
       "<table border=\"1\" class=\"dataframe\">\n",
       "  <thead>\n",
       "    <tr style=\"text-align: right;\">\n",
       "      <th></th>\n",
       "      <th>Max Precipitation Per Day</th>\n",
       "    </tr>\n",
       "  </thead>\n",
       "  <tbody>\n",
       "    <tr>\n",
       "      <th>count</th>\n",
       "      <td>365.000000</td>\n",
       "    </tr>\n",
       "    <tr>\n",
       "      <th>mean</th>\n",
       "      <td>0.517288</td>\n",
       "    </tr>\n",
       "    <tr>\n",
       "      <th>std</th>\n",
       "      <td>0.829196</td>\n",
       "    </tr>\n",
       "    <tr>\n",
       "      <th>min</th>\n",
       "      <td>0.000000</td>\n",
       "    </tr>\n",
       "    <tr>\n",
       "      <th>25%</th>\n",
       "      <td>0.040000</td>\n",
       "    </tr>\n",
       "    <tr>\n",
       "      <th>50%</th>\n",
       "      <td>0.250000</td>\n",
       "    </tr>\n",
       "    <tr>\n",
       "      <th>75%</th>\n",
       "      <td>0.650000</td>\n",
       "    </tr>\n",
       "    <tr>\n",
       "      <th>max</th>\n",
       "      <td>6.700000</td>\n",
       "    </tr>\n",
       "  </tbody>\n",
       "</table>\n",
       "</div>"
      ],
      "text/plain": [
       "       Max Precipitation Per Day\n",
       "count                 365.000000\n",
       "mean                    0.517288\n",
       "std                     0.829196\n",
       "min                     0.000000\n",
       "25%                     0.040000\n",
       "50%                     0.250000\n",
       "75%                     0.650000\n",
       "max                     6.700000"
      ]
     },
     "execution_count": 12,
     "metadata": {},
     "output_type": "execute_result"
    }
   ],
   "source": [
    "# Use Pandas to calcualte the last 12 months summary statistics for the precipitation data \n",
    "df_12m.describe()"
   ]
  },
  {
   "cell_type": "code",
   "execution_count": 13,
   "metadata": {},
   "outputs": [
    {
     "name": "stdout",
     "output_type": "stream",
     "text": [
      "Total Number of Stations are 9\n"
     ]
    }
   ],
   "source": [
    "# Query Measurement table for Station \n",
    "results = session.query(Measurement.station, Measurement.date, Measurement.tobs).order_by(Measurement.station).all()  \n",
    "\n",
    "# Save the query results as a Pandas DataFrame\n",
    "dfs = pd.DataFrame(results, columns=['Station', 'Date', 'Temperature'])\n",
    "\n",
    "# Get the Station count\n",
    "dfs1 = dfs[\"Station\"].value_counts()\n",
    "print(f\"Total Number of Stations are {dfs1.count()}\")\n"
   ]
  },
  {
   "cell_type": "code",
   "execution_count": 15,
   "metadata": {},
   "outputs": [
    {
     "data": {
      "text/html": [
       "<div>\n",
       "<style scoped>\n",
       "    .dataframe tbody tr th:only-of-type {\n",
       "        vertical-align: middle;\n",
       "    }\n",
       "\n",
       "    .dataframe tbody tr th {\n",
       "        vertical-align: top;\n",
       "    }\n",
       "\n",
       "    .dataframe thead th {\n",
       "        text-align: right;\n",
       "    }\n",
       "</style>\n",
       "<table border=\"1\" class=\"dataframe\">\n",
       "  <thead>\n",
       "    <tr style=\"text-align: right;\">\n",
       "      <th></th>\n",
       "      <th>Activity Level</th>\n",
       "    </tr>\n",
       "    <tr>\n",
       "      <th>Station id</th>\n",
       "      <th></th>\n",
       "    </tr>\n",
       "  </thead>\n",
       "  <tbody>\n",
       "    <tr>\n",
       "      <th>USC00519281</th>\n",
       "      <td>2772</td>\n",
       "    </tr>\n",
       "    <tr>\n",
       "      <th>USC00519397</th>\n",
       "      <td>2724</td>\n",
       "    </tr>\n",
       "    <tr>\n",
       "      <th>USC00513117</th>\n",
       "      <td>2709</td>\n",
       "    </tr>\n",
       "    <tr>\n",
       "      <th>USC00519523</th>\n",
       "      <td>2669</td>\n",
       "    </tr>\n",
       "    <tr>\n",
       "      <th>USC00516128</th>\n",
       "      <td>2612</td>\n",
       "    </tr>\n",
       "    <tr>\n",
       "      <th>USC00514830</th>\n",
       "      <td>2202</td>\n",
       "    </tr>\n",
       "    <tr>\n",
       "      <th>USC00511918</th>\n",
       "      <td>1979</td>\n",
       "    </tr>\n",
       "    <tr>\n",
       "      <th>USC00517948</th>\n",
       "      <td>1372</td>\n",
       "    </tr>\n",
       "    <tr>\n",
       "      <th>USC00518838</th>\n",
       "      <td>511</td>\n",
       "    </tr>\n",
       "  </tbody>\n",
       "</table>\n",
       "</div>"
      ],
      "text/plain": [
       "             Activity Level\n",
       "Station id                 \n",
       "USC00519281            2772\n",
       "USC00519397            2724\n",
       "USC00513117            2709\n",
       "USC00519523            2669\n",
       "USC00516128            2612\n",
       "USC00514830            2202\n",
       "USC00511918            1979\n",
       "USC00517948            1372\n",
       "USC00518838             511"
      ]
     },
     "execution_count": 15,
     "metadata": {},
     "output_type": "execute_result"
    }
   ],
   "source": [
    "dfs1 = dfs1.reset_index()\n",
    "\n",
    "# Rename the header\n",
    "dfs1.rename(columns={'index' : 'Station id', 'Station' : 'Activity Level'}, inplace=True)\n",
    "\n",
    "# Sort the stations by most active\n",
    "dfs1 = dfs1.sort_values('Activity Level', ascending=False)\n",
    "\n",
    "most_active_station = dfs1.iloc[0,0]\n",
    "\n",
    "dfs1 = dfs1.set_index(\"Station id\")\n",
    "\n",
    "dfs1"
   ]
  },
  {
   "cell_type": "code",
   "execution_count": 16,
   "metadata": {},
   "outputs": [
    {
     "name": "stdout",
     "output_type": "stream",
     "text": [
      "Most Active Station is USC00519281\n",
      "Lowest Recorded Temperature of Most Active Station is 54.0\n",
      "Highest Recorded Temperature of Most Active Station is 85.0\n",
      "Average Recorded Temperature of Most Active Station is 71.66378066378067\n"
     ]
    }
   ],
   "source": [
    "# Get the lowest temperature recorded, highest temperature recorded, and average temperature of most active station\n",
    "dfs_ma = dfs.loc[dfs['Station'] == most_active_station]\n",
    "\n",
    "print(f\"Most Active Station is {most_active_station}\")\n",
    "print(f\"Lowest Recorded Temperature of Most Active Station is {dfs_ma['Temperature'].min()}\")\n",
    "print(f\"Highest Recorded Temperature of Most Active Station is {dfs_ma['Temperature'].max()}\")\n",
    "print(f\"Average Recorded Temperature of Most Active Station is {dfs_ma['Temperature'].mean()}\")\n",
    "      \n"
   ]
  },
  {
   "cell_type": "code",
   "execution_count": 18,
   "metadata": {},
   "outputs": [
    {
     "data": {
      "image/png": "[encoded data removed]",
      "text/plain": [
       "<Figure size 720x360 with 1 Axes>"
      ]
     },
     "metadata": {
      "needs_background": "light"
     },
     "output_type": "display_data"
    },
    {
     "data": {
      "text/plain": [
       "<Figure size 432x288 with 0 Axes>"
      ]
     },
     "metadata": {},
     "output_type": "display_data"
    }
   ],
   "source": [
    "dfs_ma1 = dfs_ma[[\"Date\", \"Temperature\"]]\n",
    "\n",
    "# Sort the stations by most active\n",
    "dfs_ma1 = dfs_ma1.sort_values('Date', ascending=False)\n",
    "\n",
    "# Convert the Date column from string to date object format  \n",
    "dfs_ma1['Date'] = pd.to_datetime(dfs_ma1['Date'])\n",
    "\n",
    "# Get the last 12 months of data   \n",
    "first_month = dfs_ma1.iloc[0,0]\n",
    "last_month = first_month - dt.timedelta(days=365)\n",
    "df_ma_12m = dfs_ma1.loc[dfs_ma1['Date'] > last_month]\n",
    "\n",
    "df_ma_12m.set_index('Date', inplace=True)\n",
    "\n",
    "df_ma_12m.plot.hist(bins=15, alpha=0.7, color = 'red', figsize=(10,5))\n",
    "\n",
    "plt.title(\"Last 12 Months Temperature Variation of Most Active Station\")\n",
    "plt.xlabel(\"Temperature\")\n",
    "\n",
    "plt.savefig(\"Images/station-histogram.png.png\")\n",
    "plt.show()\n",
    "plt.tight_layout()\n"
   ]
  },
  {
   "cell_type": "code",
   "execution_count": 19,
   "metadata": {},
   "outputs": [
    {
     "name": "stdout",
     "output_type": "stream",
     "text": [
      "[(62.0, 69.57142857142857, 74.0)]\n"
     ]
    }
   ],
   "source": [
    "# This function called `calc_temps` will accept start date and end date in the format '%Y-%m-%d' \n",
    "# and return the minimum, average, and maximum temperatures for that range of dates\n",
    "def calc_temps(start_date, end_date):\n",
    "    \"\"\"TMIN, TAVG, and TMAX for a list of dates.\n",
    "    \n",
    "    Args:\n",
    "        start_date (string): A date string in the format %Y-%m-%d\n",
    "        end_date (string): A date string in the format %Y-%m-%d\n",
    "        \n",
    "    Returns:\n",
    "        TMIN, TAVE, and TMAX\n",
    "    \"\"\"\n",
    "    \n",
    "    return session.query(func.min(Measurement.tobs), func.avg(Measurement.tobs), func.max(Measurement.tobs)).\\\n",
    "        filter(Measurement.date >= start_date).filter(Measurement.date <= end_date).all()\n",
    "\n",
    "# function usage example\n",
    "print(calc_temps('2012-02-28', '2012-03-05'))"
   ]
  },
  {
   "cell_type": "code",
   "execution_count": 21,
   "metadata": {},
   "outputs": [
    {
     "data": {
      "text/plain": [
       "[(62.0, 70.53623188405797, 78.0)]"
      ]
     },
     "execution_count": 21,
     "metadata": {},
     "output_type": "execute_result"
    }
   ],
   "source": [
    "# My trip is for  10 days from Feb 28, 2017 to March 10, 2017 \n",
    "trip_start_date = '2017-02-28'\n",
    "trip_end_date = '2017-03-10'\n",
    "\n",
    "calc_temps(trip_start_date, trip_end_date)"
   ]
  },
  {
   "cell_type": "code",
   "execution_count": 23,
   "metadata": {},
   "outputs": [
    {
     "data": {
      "image/png": "[encoded data removed]",
      "text/plain": [
       "<Figure size 432x288 with 1 Axes>"
      ]
     },
     "metadata": {
      "needs_background": "light"
     },
     "output_type": "display_data"
    }
   ],
   "source": [
    "fig, ax = plt.subplots()\n",
    "\n",
    "ax.boxplot(calc_temps('2017-02-28', '2017-03-10'), patch_artist=True)\n",
    "ax.set_title('Trip Avg Temp')\n",
    "\n",
    "plt.savefig(\"Images/tripAvgTemp.png\")\n",
    "fig.tight_layout()\n",
    "plt.show()"
   ]
  },
  {
   "cell_type": "code",
   "execution_count": 24,
   "metadata": {},
   "outputs": [
    {
     "data": {
      "text/html": [
       "<div>\n",
       "<style scoped>\n",
       "    .dataframe tbody tr th:only-of-type {\n",
       "        vertical-align: middle;\n",
       "    }\n",
       "\n",
       "    .dataframe tbody tr th {\n",
       "        vertical-align: top;\n",
       "    }\n",
       "\n",
       "    .dataframe thead th {\n",
       "        text-align: right;\n",
       "    }\n",
       "</style>\n",
       "<table border=\"1\" class=\"dataframe\">\n",
       "  <thead>\n",
       "    <tr style=\"text-align: right;\">\n",
       "      <th></th>\n",
       "      <th>Precipitation</th>\n",
       "      <th>Station Id</th>\n",
       "      <th>Station Name</th>\n",
       "      <th>Latitude</th>\n",
       "      <th>Longitude</th>\n",
       "      <th>Elevation</th>\n",
       "    </tr>\n",
       "    <tr>\n",
       "      <th>Date</th>\n",
       "      <th></th>\n",
       "      <th></th>\n",
       "      <th></th>\n",
       "      <th></th>\n",
       "      <th></th>\n",
       "      <th></th>\n",
       "    </tr>\n",
       "  </thead>\n",
       "  <tbody>\n",
       "    <tr>\n",
       "      <th>2017-03-01</th>\n",
       "      <td>2.40</td>\n",
       "      <td>USC00517948</td>\n",
       "      <td>PEARL CITY, HI US</td>\n",
       "      <td>21.39340</td>\n",
       "      <td>-157.97510</td>\n",
       "      <td>11.9</td>\n",
       "    </tr>\n",
       "    <tr>\n",
       "      <th>2017-03-01</th>\n",
       "      <td>2.20</td>\n",
       "      <td>USC00513117</td>\n",
       "      <td>KANEOHE 838.1, HI US</td>\n",
       "      <td>21.42340</td>\n",
       "      <td>-157.80150</td>\n",
       "      <td>14.6</td>\n",
       "    </tr>\n",
       "    <tr>\n",
       "      <th>2017-03-01</th>\n",
       "      <td>2.12</td>\n",
       "      <td>USC00519281</td>\n",
       "      <td>WAIHEE 837.5, HI US</td>\n",
       "      <td>21.45167</td>\n",
       "      <td>-157.84889</td>\n",
       "      <td>32.9</td>\n",
       "    </tr>\n",
       "    <tr>\n",
       "      <th>2017-03-01</th>\n",
       "      <td>2.00</td>\n",
       "      <td>USC00516128</td>\n",
       "      <td>MANOA LYON ARBO 785.2, HI US</td>\n",
       "      <td>21.33310</td>\n",
       "      <td>-157.80250</td>\n",
       "      <td>152.4</td>\n",
       "    </tr>\n",
       "    <tr>\n",
       "      <th>2017-03-02</th>\n",
       "      <td>1.88</td>\n",
       "      <td>USC00519281</td>\n",
       "      <td>WAIHEE 837.5, HI US</td>\n",
       "      <td>21.45167</td>\n",
       "      <td>-157.84889</td>\n",
       "      <td>32.9</td>\n",
       "    </tr>\n",
       "  </tbody>\n",
       "</table>\n",
       "</div>"
      ],
      "text/plain": [
       "            Precipitation   Station Id                  Station Name  \\\n",
       "Date                                                                   \n",
       "2017-03-01           2.40  USC00517948             PEARL CITY, HI US   \n",
       "2017-03-01           2.20  USC00513117          KANEOHE 838.1, HI US   \n",
       "2017-03-01           2.12  USC00519281           WAIHEE 837.5, HI US   \n",
       "2017-03-01           2.00  USC00516128  MANOA LYON ARBO 785.2, HI US   \n",
       "2017-03-02           1.88  USC00519281           WAIHEE 837.5, HI US   \n",
       "\n",
       "            Latitude  Longitude  Elevation  \n",
       "Date                                        \n",
       "2017-03-01  21.39340 -157.97510       11.9  \n",
       "2017-03-01  21.42340 -157.80150       14.6  \n",
       "2017-03-01  21.45167 -157.84889       32.9  \n",
       "2017-03-01  21.33310 -157.80250      152.4  \n",
       "2017-03-02  21.45167 -157.84889       32.9  "
      ]
     },
     "execution_count": 24,
     "metadata": {},
     "output_type": "execute_result"
    }
   ],
   "source": [
    "# Query Measurement table   \n",
    "measure_results = session.query(Measurement.station, Measurement.date, Measurement.prcp).order_by(Measurement.station).all()  \n",
    "\n",
    "# Save the query results as a Pandas DataFrame\n",
    "measure_df = pd.DataFrame(measure_results, columns=['Station Id', 'Date', 'Precipitation'])\n",
    "\n",
    "# Sort the dataframe by date\n",
    "measure_df = measure_df.sort_values('Date', ascending=False)\n",
    "\n",
    "# Convert the Date column from string to date object format  \n",
    "measure_df['Date'] = pd.to_datetime(measure_df['Date'])\n",
    "\n",
    "# Get the last 12 months of data   \n",
    "start_date = pd.to_datetime(trip_start_date)\n",
    "end_date = pd.to_datetime(trip_end_date)\n",
    "\n",
    "measure_df = measure_df.loc[(measure_df['Date'] >= start_date) & (measure_df['Date'] <= end_date)]\n",
    "\n",
    "# Query Station table   \n",
    "station_results = session.query(Station.station, Station.name, Station.latitude, Station.longitude, Station.elevation).order_by(Station.station).all()  \n",
    "\n",
    "# Save the query results as a Pandas DataFrame\n",
    "station_df = pd.DataFrame(station_results, columns=['Station Id', 'Station Name', 'Latitude', 'Longitude', 'Elevation'])\n",
    "\n",
    "#Merge the dataframes\n",
    "merge_df = pd.merge(measure_df, station_df, how=\"inner\", on=\"Station Id\").fillna(0)\n",
    "\n",
    "neworder = ['Date','Precipitation','Station Id','Station Name','Latitude', 'Longitude', 'Elevation']\n",
    "merge_df = merge_df.reindex(columns=neworder)\n",
    "\n",
    "# Sort the stations by most active\n",
    "merge_df = merge_df.sort_values('Precipitation', ascending=False)\n",
    "\n",
    "merge_df = merge_df.set_index(\"Date\")\n",
    "\n",
    "merge_df.head()"
   ]
  },
  {
   "cell_type": "markdown",
   "metadata": {},
   "source": [
    "## Optional Challenge Assignment"
   ]
  },
  {
   "cell_type": "code",
   "execution_count": 26,
   "metadata": {},
   "outputs": [
    {
     "data": {
      "text/plain": [
       "[(62.0, 69.15384615384616, 77.0)]"
      ]
     },
     "execution_count": 26,
     "metadata": {},
     "output_type": "execute_result"
    }
   ],
   "source": [
    "# Create a query that will calculate the daily normals \n",
    "# (i.e. the averages for tmin, tmax, and tavg for all historic data matching a specific month and day)\n",
    "\n",
    "def daily_normals(date):\n",
    "    \"\"\"Daily Normals.\n",
    "    \n",
    "    Args:\n",
    "        date (str): A date string in the format '%m-%d'\n",
    "        \n",
    "    Returns:\n",
    "        A list of tuples containing the daily normals, tmin, tavg, and tmax\n",
    "    \n",
    "    \"\"\"\n",
    "    \n",
    "    sel = [func.min(Measurement.tobs), func.avg(Measurement.tobs), func.max(Measurement.tobs)]\n",
    "    return session.query(*sel).filter(func.strftime(\"%m-%d\", Measurement.date) == date).all()\n",
    "    \n",
    "daily_normals(\"01-01\")"
   ]
  },
  {
   "cell_type": "code",
   "execution_count": 27,
   "metadata": {},
   "outputs": [
    {
     "data": {
      "text/plain": [
       "[[(65.0, 70.65517241379311, 80.0)],\n",
       " [(64.0, 70.0327868852459, 76.0)],\n",
       " [(61.0, 70.36666666666666, 78.0)],\n",
       " [(60.0, 70.06896551724138, 78.0)],\n",
       " [(57.0, 69.27272727272727, 77.0)],\n",
       " [(60.0, 67.89090909090909, 76.0)],\n",
       " [(60.0, 69.20338983050847, 76.0)],\n",
       " [(60.0, 69.17241379310344, 78.0)],\n",
       " [(59.0, 68.72413793103448, 78.0)],\n",
       " [(57.0, 68.56140350877193, 75.0)],\n",
       " [(57.0, 69.12280701754386, 75.0)]]"
      ]
     },
     "execution_count": 27,
     "metadata": {},
     "output_type": "execute_result"
    }
   ],
   "source": [
    "# Reference the start_date and end_date from earlier \n",
    "\n",
    "temp_date = start_date\n",
    "date_list = []\n",
    "daily_normal_list = []\n",
    "\n",
    "while temp_date <= end_date:\n",
    "    append_date = temp_date.strftime(\"%m-%d\")\n",
    "    date_list.append(append_date)\n",
    "    daily_normal_list.append(daily_normals(append_date))\n",
    "    temp_date = temp_date + dt.timedelta(days=1) \n",
    "\n",
    "# Print the daily normal of my trip dates\n",
    "#date_list\n",
    "daily_normal_list"
   ]
  },
  {
   "cell_type": "code",
   "execution_count": 28,
   "metadata": {},
   "outputs": [
    {
     "data": {
      "text/html": [
       "<div>\n",
       "<style scoped>\n",
       "    .dataframe tbody tr th:only-of-type {\n",
       "        vertical-align: middle;\n",
       "    }\n",
       "\n",
       "    .dataframe tbody tr th {\n",
       "        vertical-align: top;\n",
       "    }\n",
       "\n",
       "    .dataframe thead th {\n",
       "        text-align: right;\n",
       "    }\n",
       "</style>\n",
       "<table border=\"1\" class=\"dataframe\">\n",
       "  <thead>\n",
       "    <tr style=\"text-align: right;\">\n",
       "      <th></th>\n",
       "      <th>tmin</th>\n",
       "      <th>tavg</th>\n",
       "      <th>tmax</th>\n",
       "    </tr>\n",
       "    <tr>\n",
       "      <th>date</th>\n",
       "      <th></th>\n",
       "      <th></th>\n",
       "      <th></th>\n",
       "    </tr>\n",
       "  </thead>\n",
       "  <tbody>\n",
       "    <tr>\n",
       "      <th>02-28</th>\n",
       "      <td>65.0</td>\n",
       "      <td>70.655172</td>\n",
       "      <td>80.0</td>\n",
       "    </tr>\n",
       "    <tr>\n",
       "      <th>03-01</th>\n",
       "      <td>64.0</td>\n",
       "      <td>70.032787</td>\n",
       "      <td>76.0</td>\n",
       "    </tr>\n",
       "    <tr>\n",
       "      <th>03-02</th>\n",
       "      <td>61.0</td>\n",
       "      <td>70.366667</td>\n",
       "      <td>78.0</td>\n",
       "    </tr>\n",
       "    <tr>\n",
       "      <th>03-03</th>\n",
       "      <td>60.0</td>\n",
       "      <td>70.068966</td>\n",
       "      <td>78.0</td>\n",
       "    </tr>\n",
       "    <tr>\n",
       "      <th>03-04</th>\n",
       "      <td>57.0</td>\n",
       "      <td>69.272727</td>\n",
       "      <td>77.0</td>\n",
       "    </tr>\n",
       "    <tr>\n",
       "      <th>03-05</th>\n",
       "      <td>60.0</td>\n",
       "      <td>67.890909</td>\n",
       "      <td>76.0</td>\n",
       "    </tr>\n",
       "    <tr>\n",
       "      <th>03-06</th>\n",
       "      <td>60.0</td>\n",
       "      <td>69.203390</td>\n",
       "      <td>76.0</td>\n",
       "    </tr>\n",
       "    <tr>\n",
       "      <th>03-07</th>\n",
       "      <td>60.0</td>\n",
       "      <td>69.172414</td>\n",
       "      <td>78.0</td>\n",
       "    </tr>\n",
       "    <tr>\n",
       "      <th>03-08</th>\n",
       "      <td>59.0</td>\n",
       "      <td>68.724138</td>\n",
       "      <td>78.0</td>\n",
       "    </tr>\n",
       "    <tr>\n",
       "      <th>03-09</th>\n",
       "      <td>57.0</td>\n",
       "      <td>68.561404</td>\n",
       "      <td>75.0</td>\n",
       "    </tr>\n",
       "    <tr>\n",
       "      <th>03-10</th>\n",
       "      <td>57.0</td>\n",
       "      <td>69.122807</td>\n",
       "      <td>75.0</td>\n",
       "    </tr>\n",
       "  </tbody>\n",
       "</table>\n",
       "</div>"
      ],
      "text/plain": [
       "       tmin       tavg  tmax\n",
       "date                        \n",
       "02-28  65.0  70.655172  80.0\n",
       "03-01  64.0  70.032787  76.0\n",
       "03-02  61.0  70.366667  78.0\n",
       "03-03  60.0  70.068966  78.0\n",
       "03-04  57.0  69.272727  77.0\n",
       "03-05  60.0  67.890909  76.0\n",
       "03-06  60.0  69.203390  76.0\n",
       "03-07  60.0  69.172414  78.0\n",
       "03-08  59.0  68.724138  78.0\n",
       "03-09  57.0  68.561404  75.0\n",
       "03-10  57.0  69.122807  75.0"
      ]
     },
     "execution_count": 28,
     "metadata": {},
     "output_type": "execute_result"
    }
   ],
   "source": [
    "combined_list = []\n",
    "\n",
    "total_item = len(date_list)\n",
    "\n",
    "for item in range(len(date_list)):\n",
    "    merge_list = {}\n",
    "    merge_list['date'] = date_list[item]\n",
    "    merge_list['tmin'] = daily_normal_list[item][0][0]\n",
    "    merge_list['tavg'] = daily_normal_list[item][0][1]\n",
    "    merge_list['tmax'] = daily_normal_list[item][0][2]\n",
    "    combined_list.append(merge_list)\n",
    "    \n",
    "combined_list\n",
    "\n",
    "df = pd.DataFrame(combined_list) \n",
    "df = df.reindex(columns=['date', 'tmin', 'tavg', 'tmax'])\n",
    "df = df.set_index(\"date\")\n",
    "df"
   ]
  },
  {
   "cell_type": "code",
   "execution_count": 63,
   "metadata": {},
   "outputs": [
    {
     "data": {
      "image/png": "[encoded data removed]",
      "text/plain": [
       "<Figure size 864x360 with 1 Axes>"
      ]
     },
     "metadata": {
      "needs_background": "light"
     },
     "output_type": "display_data"
    },
    {
     "data": {
      "text/plain": [
       "<Figure size 432x288 with 0 Axes>"
      ]
     },
     "metadata": {},
     "output_type": "display_data"
    }
   ],
   "source": [
    "ax = df.plot(kind='line', stacked=False, figsize=(12,5))\n",
    "ax.set_ylim((40, 85))\n",
    "ax.set_facecolor((0.6, 0.6, 0.6))\n",
    "\n",
    "ax.set_yticks(np.arange(40, 90, step=10))\n",
    "\n",
    "ax.set_title(\"Daily Temperature during my Trip\")\n",
    "ax.set_xlabel(\"Date\")\n",
    "ax.set_ylabel(\"Temperature\")\n",
    "           \n",
    "           \n",
    "plt.savefig(\"Images/daily_normals.png\")\n",
    "plt.show()\n",
    "plt.tight_layout()"
   ]
  },
  {
   "cell_type": "code",
   "execution_count": null,
   "metadata": {},
   "outputs": [],
   "source": []
  }
 ],
 "metadata": {
  "kernel_info": {
   "name": "python3"
  },
  "kernelspec": {
   "display_name": "Python 3",
   "language": "python",
   "name": "python3"
  },
  "language_info": {
   "codemirror_mode": {
    "name": "ipython",
    "version": 3
   },
   "file_extension": ".py",
   "mimetype": "text/x-python",
   "name": "python",
   "nbconvert_exporter": "python",
   "pygments_lexer": "ipython3",
   "version": "3.7.3"
  },
  "nteract": {
   "version": "0.12.3"
  },
  "varInspector": {
   "cols": {
    "lenName": 16,
    "lenType": 16,
    "lenVar": 40
   },
   "kernels_config": {
    "python": {
     "delete_cmd_postfix": "",
     "delete_cmd_prefix": "del ",
     "library": "var_list.py",
     "varRefreshCmd": "print(var_dic_list())"
    },
    "r": {
     "delete_cmd_postfix": ") ",
     "delete_cmd_prefix": "rm(",
     "library": "var_list.r",
     "varRefreshCmd": "cat(var_dic_list()) "
    }
   },
   "types_to_exclude": [
    "module",
    "function",
    "builtin_function_or_method",
    "instance",
    "_Feature"
   ],
   "window_display": false
  }
 },
 "nbformat": 4,
 "nbformat_minor": 2
}
